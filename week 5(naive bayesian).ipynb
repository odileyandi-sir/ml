{
 "cells": [
  {
   "cell_type": "code",
   "execution_count": 6,
   "id": "6090d0d6",
   "metadata": {},
   "outputs": [
    {
     "name": "stdout",
     "output_type": "stream",
     "text": [
      "\n",
      "thetotalnumberofTrainingData: (6, 1)\n",
      "\n",
      "thetotalnumberofTestData: (4, 1)\n",
      "\n",
      "Confusionmatrix\n",
      "[[1 0]\n",
      " [2 1]]\n",
      "\n",
      "Accuracyoftheclassifieris 0.5\n",
      "\n",
      "ThevalueofPrecision 1.0\n",
      "\n",
      "ThevalueofRecall 0.3333333333333333\n",
      "PredictedValueforindividualTestData: [1]\n"
     ]
    }
   ],
   "source": [
    "import pandas as pd\n",
    "from sklearn.model_selection import train_test_split\n",
    "from sklearn.naive_bayes import GaussianNB\n",
    "from sklearn import metrics\n",
    "df=pd.read_csv(\"C:/Users/Jeevan/Downloads/datamid1.csv\")\n",
    "feature_col_names=['Pregnancies','Glucose','BloodPressure','SkinThickness','Insulin','BMI','DiabeticPedigreeFunction','Age']\n",
    "predicted_class_names=['Outcome']\n",
    "X=df[feature_col_names].values#thesearefactorsfortheprediction\n",
    "y=df[predicted_class_names].values#thisiswhatwewanttopredict\n",
    "#splittingthedatasetintotrainandtestdata\n",
    "xtrain,xtest,ytrain,ytest=train_test_split(X,y,test_size=0.33)\n",
    "print('\\nthetotalnumberofTrainingData:',ytrain.shape)\n",
    "print('\\nthetotalnumberofTestData:',ytest.shape)\n",
    "#TrainingNaiveBayes(NB)classifierontrainingdata.\n",
    "clf=GaussianNB().fit(xtrain,ytrain.ravel())\n",
    "predicted=clf.predict(xtest)\n",
    "predictTestData=clf.predict([[6,148,72,35,0,33.6,0.627,50]])\n",
    "#printingConfusionmatrix,accuracy,PrecisionandRecall\n",
    "print('\\nConfusionmatrix')\n",
    "print(metrics.confusion_matrix(ytest,predicted))\n",
    "print('\\nAccuracyoftheclassifieris',metrics.accuracy_score(ytest,predicted))\n",
    "print('\\nThevalueofPrecision',metrics.precision_score(ytest,predicted))\n",
    "print('\\nThevalueofRecall',metrics.recall_score(ytest,predicted))\n",
    "print(\"PredictedValueforindividualTestData:\",predictTestData)\n",
    "\n"
   ]
  },
  {
   "cell_type": "code",
   "execution_count": null,
   "id": "9589c73c",
   "metadata": {},
   "outputs": [],
   "source": []
  },
  {
   "cell_type": "code",
   "execution_count": null,
   "id": "b3c95a3b",
   "metadata": {},
   "outputs": [],
   "source": []
  }
 ],
 "metadata": {
  "kernelspec": {
   "display_name": "Python 3",
   "language": "python",
   "name": "python3"
  },
  "language_info": {
   "codemirror_mode": {
    "name": "ipython",
    "version": 3
   },
   "file_extension": ".py",
   "mimetype": "text/x-python",
   "name": "python",
   "nbconvert_exporter": "python",
   "pygments_lexer": "ipython3",
   "version": "3.8.8"
  }
 },
 "nbformat": 4,
 "nbformat_minor": 5
}
